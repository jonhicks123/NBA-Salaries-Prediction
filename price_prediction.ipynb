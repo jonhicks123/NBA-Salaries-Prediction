{
 "metadata": {
  "language_info": {
   "codemirror_mode": {
    "name": "ipython",
    "version": 3
   },
   "file_extension": ".py",
   "mimetype": "text/x-python",
   "name": "python",
   "nbconvert_exporter": "python",
   "pygments_lexer": "ipython3",
   "version": "3.8.3"
  },
  "orig_nbformat": 2,
  "kernelspec": {
   "name": "python383jvsc74a57bd0d5a39966799833faf8501bde555d52f9d6a6de44038df49be1016d81fcb7c977",
   "display_name": "Python 3.8.3 64-bit (conda)"
  }
 },
 "nbformat": 4,
 "nbformat_minor": 2,
 "cells": [
  {
   "cell_type": "code",
   "execution_count": 4,
   "metadata": {},
   "outputs": [],
   "source": [
    "import pandas as pd\n",
    "import datetime as dt\n",
    "import os"
   ]
  },
  {
   "cell_type": "code",
   "execution_count": 28,
   "metadata": {},
   "outputs": [
    {
     "output_type": "stream",
     "name": "stderr",
     "text": [
      "C:\\Users\\JonHicks\\anaconda3\\lib\\site-packages\\IPython\\core\\interactiveshell.py:3071: DtypeWarning: Columns (7) have mixed types.Specify dtype option on import or set low_memory=False.\n  has_raised = await self.run_ast_nodes(code_ast.body, cell_name,\n"
     ]
    },
    {
     "output_type": "execute_result",
     "data": {
      "text/plain": [
       "   fare_amount          pickup_datetime  pickup_longitude  pickup_latitude  \\\n",
       "0         10.5  2011-04-18 19:55:00 UTC        -73.984565        40.745372   \n",
       "1         12.0  2014-01-09 07:48:00 UTC        -73.991572        40.749877   \n",
       "2          9.0  2014-09-14 01:14:00 UTC        -74.000412        40.718410   \n",
       "3          9.3  2012-03-18 15:04:01 UTC        -73.991999        40.719834   \n",
       "4          8.5  2012-02-06 13:09:00 UTC        -73.966765        40.761547   \n",
       "\n",
       "   dropoff_longitude  dropoff_latitude  passenger_count distance_miles  \n",
       "0         -73.951843         40.777743                5     2.82005139  \n",
       "1         -73.964142         40.757180                1    1.523470931  \n",
       "2         -73.999255         40.719967                2    0.123604497  \n",
       "3         -73.983515         40.743818                1    1.717548144  \n",
       "4         -73.990493         40.750787                1    1.449009736  "
      ],
      "text/html": "<div>\n<style scoped>\n    .dataframe tbody tr th:only-of-type {\n        vertical-align: middle;\n    }\n\n    .dataframe tbody tr th {\n        vertical-align: top;\n    }\n\n    .dataframe thead th {\n        text-align: right;\n    }\n</style>\n<table border=\"1\" class=\"dataframe\">\n  <thead>\n    <tr style=\"text-align: right;\">\n      <th></th>\n      <th>fare_amount</th>\n      <th>pickup_datetime</th>\n      <th>pickup_longitude</th>\n      <th>pickup_latitude</th>\n      <th>dropoff_longitude</th>\n      <th>dropoff_latitude</th>\n      <th>passenger_count</th>\n      <th>distance_miles</th>\n    </tr>\n  </thead>\n  <tbody>\n    <tr>\n      <th>0</th>\n      <td>10.5</td>\n      <td>2011-04-18 19:55:00 UTC</td>\n      <td>-73.984565</td>\n      <td>40.745372</td>\n      <td>-73.951843</td>\n      <td>40.777743</td>\n      <td>5</td>\n      <td>2.82005139</td>\n    </tr>\n    <tr>\n      <th>1</th>\n      <td>12.0</td>\n      <td>2014-01-09 07:48:00 UTC</td>\n      <td>-73.991572</td>\n      <td>40.749877</td>\n      <td>-73.964142</td>\n      <td>40.757180</td>\n      <td>1</td>\n      <td>1.523470931</td>\n    </tr>\n    <tr>\n      <th>2</th>\n      <td>9.0</td>\n      <td>2014-09-14 01:14:00 UTC</td>\n      <td>-74.000412</td>\n      <td>40.718410</td>\n      <td>-73.999255</td>\n      <td>40.719967</td>\n      <td>2</td>\n      <td>0.123604497</td>\n    </tr>\n    <tr>\n      <th>3</th>\n      <td>9.3</td>\n      <td>2012-03-18 15:04:01 UTC</td>\n      <td>-73.991999</td>\n      <td>40.719834</td>\n      <td>-73.983515</td>\n      <td>40.743818</td>\n      <td>1</td>\n      <td>1.717548144</td>\n    </tr>\n    <tr>\n      <th>4</th>\n      <td>8.5</td>\n      <td>2012-02-06 13:09:00 UTC</td>\n      <td>-73.966765</td>\n      <td>40.761547</td>\n      <td>-73.990493</td>\n      <td>40.750787</td>\n      <td>1</td>\n      <td>1.449009736</td>\n    </tr>\n  </tbody>\n</table>\n</div>"
     },
     "metadata": {},
     "execution_count": 28
    }
   ],
   "source": [
    "uber_path = \"Data/Uber_RideData.csv\"\n",
    "df = pd.read_csv(uber_path)\n",
    "df.head()"
   ]
  },
  {
   "cell_type": "code",
   "execution_count": 29,
   "metadata": {},
   "outputs": [
    {
     "output_type": "execute_result",
     "data": {
      "text/plain": [
       "   fare_amount      pickup_datetime  pickup_longitude  pickup_latitude  \\\n",
       "0         10.5  2011-04-18 19:55:00        -73.984565        40.745372   \n",
       "1         12.0  2014-01-09 07:48:00        -73.991572        40.749877   \n",
       "2          9.0  2014-09-14 01:14:00        -74.000412        40.718410   \n",
       "3          9.3  2012-03-18 15:04:01        -73.991999        40.719834   \n",
       "4          8.5  2012-02-06 13:09:00        -73.966765        40.761547   \n",
       "\n",
       "   dropoff_longitude  dropoff_latitude  passenger_count distance_miles  \n",
       "0         -73.951843         40.777743                5     2.82005139  \n",
       "1         -73.964142         40.757180                1    1.523470931  \n",
       "2         -73.999255         40.719967                2    0.123604497  \n",
       "3         -73.983515         40.743818                1    1.717548144  \n",
       "4         -73.990493         40.750787                1    1.449009736  "
      ],
      "text/html": "<div>\n<style scoped>\n    .dataframe tbody tr th:only-of-type {\n        vertical-align: middle;\n    }\n\n    .dataframe tbody tr th {\n        vertical-align: top;\n    }\n\n    .dataframe thead th {\n        text-align: right;\n    }\n</style>\n<table border=\"1\" class=\"dataframe\">\n  <thead>\n    <tr style=\"text-align: right;\">\n      <th></th>\n      <th>fare_amount</th>\n      <th>pickup_datetime</th>\n      <th>pickup_longitude</th>\n      <th>pickup_latitude</th>\n      <th>dropoff_longitude</th>\n      <th>dropoff_latitude</th>\n      <th>passenger_count</th>\n      <th>distance_miles</th>\n    </tr>\n  </thead>\n  <tbody>\n    <tr>\n      <th>0</th>\n      <td>10.5</td>\n      <td>2011-04-18 19:55:00</td>\n      <td>-73.984565</td>\n      <td>40.745372</td>\n      <td>-73.951843</td>\n      <td>40.777743</td>\n      <td>5</td>\n      <td>2.82005139</td>\n    </tr>\n    <tr>\n      <th>1</th>\n      <td>12.0</td>\n      <td>2014-01-09 07:48:00</td>\n      <td>-73.991572</td>\n      <td>40.749877</td>\n      <td>-73.964142</td>\n      <td>40.757180</td>\n      <td>1</td>\n      <td>1.523470931</td>\n    </tr>\n    <tr>\n      <th>2</th>\n      <td>9.0</td>\n      <td>2014-09-14 01:14:00</td>\n      <td>-74.000412</td>\n      <td>40.718410</td>\n      <td>-73.999255</td>\n      <td>40.719967</td>\n      <td>2</td>\n      <td>0.123604497</td>\n    </tr>\n    <tr>\n      <th>3</th>\n      <td>9.3</td>\n      <td>2012-03-18 15:04:01</td>\n      <td>-73.991999</td>\n      <td>40.719834</td>\n      <td>-73.983515</td>\n      <td>40.743818</td>\n      <td>1</td>\n      <td>1.717548144</td>\n    </tr>\n    <tr>\n      <th>4</th>\n      <td>8.5</td>\n      <td>2012-02-06 13:09:00</td>\n      <td>-73.966765</td>\n      <td>40.761547</td>\n      <td>-73.990493</td>\n      <td>40.750787</td>\n      <td>1</td>\n      <td>1.449009736</td>\n    </tr>\n  </tbody>\n</table>\n</div>"
     },
     "metadata": {},
     "execution_count": 29
    }
   ],
   "source": [
    "# remove ' UTC' from datetime column before converting to a datetime\n",
    "df['pickup_datetime'] = df['pickup_datetime'].apply(lambda s: str(s).replace(' UTC',''))\n",
    "df.head()"
   ]
  },
  {
   "cell_type": "code",
   "execution_count": 30,
   "metadata": {},
   "outputs": [
    {
     "output_type": "execute_result",
     "data": {
      "text/plain": [
       "   fare_amount     pickup_datetime  pickup_longitude  pickup_latitude  \\\n",
       "0         10.5 2011-04-18 19:55:00        -73.984565        40.745372   \n",
       "1         12.0 2014-01-09 07:48:00        -73.991572        40.749877   \n",
       "2          9.0 2014-09-14 01:14:00        -74.000412        40.718410   \n",
       "3          9.3 2012-03-18 15:04:01        -73.991999        40.719834   \n",
       "4          8.5 2012-02-06 13:09:00        -73.966765        40.761547   \n",
       "\n",
       "   dropoff_longitude  dropoff_latitude  passenger_count distance_miles  \n",
       "0         -73.951843         40.777743                5     2.82005139  \n",
       "1         -73.964142         40.757180                1    1.523470931  \n",
       "2         -73.999255         40.719967                2    0.123604497  \n",
       "3         -73.983515         40.743818                1    1.717548144  \n",
       "4         -73.990493         40.750787                1    1.449009736  "
      ],
      "text/html": "<div>\n<style scoped>\n    .dataframe tbody tr th:only-of-type {\n        vertical-align: middle;\n    }\n\n    .dataframe tbody tr th {\n        vertical-align: top;\n    }\n\n    .dataframe thead th {\n        text-align: right;\n    }\n</style>\n<table border=\"1\" class=\"dataframe\">\n  <thead>\n    <tr style=\"text-align: right;\">\n      <th></th>\n      <th>fare_amount</th>\n      <th>pickup_datetime</th>\n      <th>pickup_longitude</th>\n      <th>pickup_latitude</th>\n      <th>dropoff_longitude</th>\n      <th>dropoff_latitude</th>\n      <th>passenger_count</th>\n      <th>distance_miles</th>\n    </tr>\n  </thead>\n  <tbody>\n    <tr>\n      <th>0</th>\n      <td>10.5</td>\n      <td>2011-04-18 19:55:00</td>\n      <td>-73.984565</td>\n      <td>40.745372</td>\n      <td>-73.951843</td>\n      <td>40.777743</td>\n      <td>5</td>\n      <td>2.82005139</td>\n    </tr>\n    <tr>\n      <th>1</th>\n      <td>12.0</td>\n      <td>2014-01-09 07:48:00</td>\n      <td>-73.991572</td>\n      <td>40.749877</td>\n      <td>-73.964142</td>\n      <td>40.757180</td>\n      <td>1</td>\n      <td>1.523470931</td>\n    </tr>\n    <tr>\n      <th>2</th>\n      <td>9.0</td>\n      <td>2014-09-14 01:14:00</td>\n      <td>-74.000412</td>\n      <td>40.718410</td>\n      <td>-73.999255</td>\n      <td>40.719967</td>\n      <td>2</td>\n      <td>0.123604497</td>\n    </tr>\n    <tr>\n      <th>3</th>\n      <td>9.3</td>\n      <td>2012-03-18 15:04:01</td>\n      <td>-73.991999</td>\n      <td>40.719834</td>\n      <td>-73.983515</td>\n      <td>40.743818</td>\n      <td>1</td>\n      <td>1.717548144</td>\n    </tr>\n    <tr>\n      <th>4</th>\n      <td>8.5</td>\n      <td>2012-02-06 13:09:00</td>\n      <td>-73.966765</td>\n      <td>40.761547</td>\n      <td>-73.990493</td>\n      <td>40.750787</td>\n      <td>1</td>\n      <td>1.449009736</td>\n    </tr>\n  </tbody>\n</table>\n</div>"
     },
     "metadata": {},
     "execution_count": 30
    }
   ],
   "source": [
    "# convert column to datetime\n",
    "df['pickup_datetime'] = pd.to_datetime(df['pickup_datetime'], \n",
    "                                       format='%Y/%m/%d %H:%M:%S', errors = 'coerce', utc=None)\n",
    "df.head()"
   ]
  },
  {
   "cell_type": "code",
   "execution_count": 41,
   "metadata": {},
   "outputs": [
    {
     "output_type": "execute_result",
     "data": {
      "text/plain": [
       "   fare_amount     pickup_datetime  pickup_longitude  pickup_latitude  \\\n",
       "0         10.5 2011-04-18 19:55:00        -73.984565        40.745372   \n",
       "1         12.0 2014-01-09 07:48:00        -73.991572        40.749877   \n",
       "2          9.0 2014-09-14 01:14:00        -74.000412        40.718410   \n",
       "3          9.3 2012-03-18 15:04:01        -73.991999        40.719834   \n",
       "4          8.5 2012-02-06 13:09:00        -73.966765        40.761547   \n",
       "\n",
       "   dropoff_longitude  dropoff_latitude  passenger_count  distance_miles  year  \\\n",
       "0         -73.951843         40.777743                5        2.820051  2011   \n",
       "1         -73.964142         40.757180                1        1.523471  2014   \n",
       "2         -73.999255         40.719967                2        0.123604  2014   \n",
       "3         -73.983515         40.743818                1        1.717548  2012   \n",
       "4         -73.990493         40.750787                1        1.449010  2012   \n",
       "\n",
       "   month  day  hour  minute  weekday  \n",
       "0      4   18    19      55        0  \n",
       "1      1    9     7      48        3  \n",
       "2      9   14     1      14        6  \n",
       "3      3   18    15       4        6  \n",
       "4      2    6    13       9        0  "
      ],
      "text/html": "<div>\n<style scoped>\n    .dataframe tbody tr th:only-of-type {\n        vertical-align: middle;\n    }\n\n    .dataframe tbody tr th {\n        vertical-align: top;\n    }\n\n    .dataframe thead th {\n        text-align: right;\n    }\n</style>\n<table border=\"1\" class=\"dataframe\">\n  <thead>\n    <tr style=\"text-align: right;\">\n      <th></th>\n      <th>fare_amount</th>\n      <th>pickup_datetime</th>\n      <th>pickup_longitude</th>\n      <th>pickup_latitude</th>\n      <th>dropoff_longitude</th>\n      <th>dropoff_latitude</th>\n      <th>passenger_count</th>\n      <th>distance_miles</th>\n      <th>year</th>\n      <th>month</th>\n      <th>day</th>\n      <th>hour</th>\n      <th>minute</th>\n      <th>weekday</th>\n    </tr>\n  </thead>\n  <tbody>\n    <tr>\n      <th>0</th>\n      <td>10.5</td>\n      <td>2011-04-18 19:55:00</td>\n      <td>-73.984565</td>\n      <td>40.745372</td>\n      <td>-73.951843</td>\n      <td>40.777743</td>\n      <td>5</td>\n      <td>2.820051</td>\n      <td>2011</td>\n      <td>4</td>\n      <td>18</td>\n      <td>19</td>\n      <td>55</td>\n      <td>0</td>\n    </tr>\n    <tr>\n      <th>1</th>\n      <td>12.0</td>\n      <td>2014-01-09 07:48:00</td>\n      <td>-73.991572</td>\n      <td>40.749877</td>\n      <td>-73.964142</td>\n      <td>40.757180</td>\n      <td>1</td>\n      <td>1.523471</td>\n      <td>2014</td>\n      <td>1</td>\n      <td>9</td>\n      <td>7</td>\n      <td>48</td>\n      <td>3</td>\n    </tr>\n    <tr>\n      <th>2</th>\n      <td>9.0</td>\n      <td>2014-09-14 01:14:00</td>\n      <td>-74.000412</td>\n      <td>40.718410</td>\n      <td>-73.999255</td>\n      <td>40.719967</td>\n      <td>2</td>\n      <td>0.123604</td>\n      <td>2014</td>\n      <td>9</td>\n      <td>14</td>\n      <td>1</td>\n      <td>14</td>\n      <td>6</td>\n    </tr>\n    <tr>\n      <th>3</th>\n      <td>9.3</td>\n      <td>2012-03-18 15:04:01</td>\n      <td>-73.991999</td>\n      <td>40.719834</td>\n      <td>-73.983515</td>\n      <td>40.743818</td>\n      <td>1</td>\n      <td>1.717548</td>\n      <td>2012</td>\n      <td>3</td>\n      <td>18</td>\n      <td>15</td>\n      <td>4</td>\n      <td>6</td>\n    </tr>\n    <tr>\n      <th>4</th>\n      <td>8.5</td>\n      <td>2012-02-06 13:09:00</td>\n      <td>-73.966765</td>\n      <td>40.761547</td>\n      <td>-73.990493</td>\n      <td>40.750787</td>\n      <td>1</td>\n      <td>1.449010</td>\n      <td>2012</td>\n      <td>2</td>\n      <td>6</td>\n      <td>13</td>\n      <td>9</td>\n      <td>0</td>\n    </tr>\n  </tbody>\n</table>\n</div>"
     },
     "metadata": {},
     "execution_count": 41
    }
   ],
   "source": [
    "# break up datetime column into separate columns to use for ride analysis\n",
    "df['year'] = pd.DatetimeIndex(df['pickup_datetime']).year\n",
    "df['month'] = pd.DatetimeIndex(df['pickup_datetime']).month\n",
    "df['day'] = pd.DatetimeIndex(df['pickup_datetime']).day\n",
    "df['weekday'] = pd.DatetimeIndex(df['pickup_datetime']).weekday\n",
    "df['hour'] = pd.DatetimeIndex(df['pickup_datetime']).hour\n",
    "df['minute'] = pd.DatetimeIndex(df['pickup_datetime']).minute\n",
    "df['distance_miles'] = df['distance_miles'].apply(pd.to_numeric, downcast='float', errors='coerce')\n",
    "df.head()"
   ]
  },
  {
   "cell_type": "code",
   "execution_count": 42,
   "metadata": {},
   "outputs": [
    {
     "output_type": "execute_result",
     "data": {
      "text/plain": [
       "fare_amount                 float64\n",
       "pickup_datetime      datetime64[ns]\n",
       "pickup_longitude            float64\n",
       "pickup_latitude             float64\n",
       "dropoff_longitude           float64\n",
       "dropoff_latitude            float64\n",
       "passenger_count               int64\n",
       "distance_miles              float64\n",
       "year                          int64\n",
       "month                         int64\n",
       "day                           int64\n",
       "hour                          int64\n",
       "minute                        int64\n",
       "weekday                       int64\n",
       "dtype: object"
      ]
     },
     "metadata": {},
     "execution_count": 42
    }
   ],
   "source": [
    "# check column types before performing further analysis\n",
    "df.dtypes"
   ]
  },
  {
   "cell_type": "code",
   "execution_count": 43,
   "metadata": {},
   "outputs": [],
   "source": [
    "# df.to_csv('Data/Uber_Cleaned.csv')"
   ]
  },
  {
   "cell_type": "code",
   "execution_count": null,
   "metadata": {},
   "outputs": [],
   "source": [
    "# linear regression - day of week, hour, passenger count, distance_miles"
   ]
  }
 ]
}